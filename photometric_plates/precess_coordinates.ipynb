{
 "cells": [
  {
   "cell_type": "code",
   "execution_count": null,
   "id": "18072c13",
   "metadata": {},
   "outputs": [],
   "source": [
    "import pandas as pd\n",
    "import astropy.units as u\n",
    "from astropy.coordinates import SkyCoord\n",
    "from astropy.coordinates import FK5\n",
    "from astropy.time import Time"
   ]
  },
  {
   "cell_type": "markdown",
   "id": "02831ff4",
   "metadata": {},
   "source": [
    "### precess from csv"
   ]
  },
  {
   "cell_type": "code",
   "execution_count": null,
   "id": "1390d23d",
   "metadata": {},
   "outputs": [],
   "source": [
    "# change file and directory to find your own catalog (.csv file)\n",
    "directory = \"C:\\\\dir\\\\to\\\\csv\\\\\"\n",
    "file = \"coords.csv\"\n",
    "\n",
    "# change variables to match .csv file's table headers\n",
    "ra_col = \"RA_B1875\"\n",
    "dec_col = \"Dec_B1875\"\n",
    "\n",
    "# transformed coordinate column names\n",
    "tra_col = \"RA_J2000\"\n",
    "tdec_col = \"Dec_J2000\"\n",
    "\n",
    "# change epoch years\n",
    "# given is found in csv, and transform will transform csv values to that epoch\n",
    "given_epoch = 1875\n",
    "transform_to_epoch = 2000"
   ]
  },
  {
   "cell_type": "code",
   "execution_count": null,
   "id": "6e4a70bc",
   "metadata": {},
   "outputs": [],
   "source": [
    "df = pd.read_csv(directory+file,encoding='latin')\n",
    "ra = df[ra_col]\n",
    "dec = df[dec_col]\n",
    "\n",
    "fk5_coords = SkyCoord(ra,dec,unit='deg',frame=FK5(equinox=Time(given_epoch, format='jyear')))\n",
    "fk5_transform = FK5(equinox=Time(transform_to_epoch, format='jyear'))\n",
    "fk5_transformed = fk5_coords.transform_to(fk5_transform)\n",
    "\n",
    "tra, tdec = fk5_transformed.ra.degree,fk5_transformed.dec.degree\n",
    "df[tra_col] = tra\n",
    "df[tdec_col] = tdec\n",
    "\n",
    "df.to_csv(directory+file,index=False)"
   ]
  },
  {
   "cell_type": "markdown",
   "id": "0ae1f3e1",
   "metadata": {},
   "source": [
    "---"
   ]
  },
  {
   "cell_type": "markdown",
   "id": "d386aaea",
   "metadata": {},
   "source": [
    "### precess from given coord"
   ]
  },
  {
   "cell_type": "code",
   "execution_count": null,
   "id": "1c27ab32",
   "metadata": {},
   "outputs": [],
   "source": [
    "# input ra and dec in split sexagesimal or degress\n",
    "ra_h,ra_m,ra_s = 23,14,16\n",
    "dec_d,dec_am,dec_as = 7,27,0\n",
    "ra = 15.*(ra_h+ra_m/60.+ra_s/3600.)\n",
    "dec = dec_d+dec_am/60.+dec_as/3600.\n",
    "# ra,dec = 0,0\n",
    "\n",
    "# change epoch years\n",
    "given_epoch = 1875\n",
    "transform_to_epoch = 2000\n",
    "\n",
    "fk5_coords = SkyCoord(ra,dec,unit='deg',frame=FK5(equinox=Time(given_epoch, format='jyear')))\n",
    "fk5_transform = FK5(equinox=Time(transform_to_epoch, format='jyear'))\n",
    "fk5_transformed = fk5_coords.transform_to(fk5_transform)\n",
    "\n",
    "tra, tdec = fk5_transformed.ra.degree,fk5_transformed.dec.degree\n",
    "\n",
    "print(f'{ra:.5f},{dec:.5} -> {tra:.5f},{tdec:.5f}')\n",
    "print(ra)\n",
    "print(dec)\n",
    "print(tra)\n",
    "print(tdec)"
   ]
  },
  {
   "cell_type": "markdown",
   "id": "4031e439",
   "metadata": {},
   "source": [
    "---"
   ]
  },
  {
   "cell_type": "markdown",
   "id": "9c3dd4c9-ea47-4b41-ae1a-1d3e0191791d",
   "metadata": {},
   "source": [
    "### seperate sexagesimal entries to __h__m__s +__d__m__s"
   ]
  },
  {
   "cell_type": "code",
   "execution_count": null,
   "id": "4f1e1db1-3f0a-4d00-9bad-6ff649b79baf",
   "metadata": {},
   "outputs": [],
   "source": [
    "# change file and directory to find your own catalog (.csv file)\n",
    "directory = \"C:\\\\dir\\\\to\\\\csv\\\\\"\n",
    "file = \"coords.csv\n",
    "\n",
    "df = pd.read_csv(directory+file,encoding='latin')\n",
    "\n",
    "# columns for RA in split sexagesimal format\n",
    "# ra hours\n",
    "ra1 = df[\"RA_h\"]\n",
    "# ra minutes\n",
    "ra2 = df[\"RA_m\"]\n",
    "# ra seconds\n",
    "ra3 = df[\"RA_s\"]\n",
    "# columns for Dec in split sexagesimal format\n",
    "# dec degrees\n",
    "dec1 = df[\"Dec_deg\"]\n",
    "# dec arcminutes\n",
    "dec2 = df[\"Dec_amin\"]\n",
    "# dec arcseconds\n",
    "dec3 = df[\"Dec_asec\"]\n",
    "\n",
    "coords = []\n",
    "for i in range(len(ra1)):\n",
    "    coords.append(str(int(ra1[i]))+\"h\"+str(int(ra2[i]))+\"m\"+str(ra3[i])+\"s \"+str(int(dec1[i]))+\"d\"+str(int(dec2[i]))+\"m\"+str(int(dec3[i]))+\"s\")\n",
    "fk5_coords = SkyCoord(coords)\n",
    "\n",
    "print(fk5_coords.to_string(\"hmsdms\"))\n",
    "df[\"string_coords\"] = fk5_coords.to_string(\"hmsdms\")\n",
    "# will overwrite existing file with new column\n",
    "df.to_csv(directory+file)"
   ]
  },
  {
   "cell_type": "markdown",
   "id": "4d45ec3c-0ef4-4de3-be29-17953625fdcc",
   "metadata": {},
   "source": [
    "---"
   ]
  }
 ],
 "metadata": {
  "kernelspec": {
   "display_name": "Python 3 (ipykernel)",
   "language": "python",
   "name": "python3"
  },
  "language_info": {
   "codemirror_mode": {
    "name": "ipython",
    "version": 3
   },
   "file_extension": ".py",
   "mimetype": "text/x-python",
   "name": "python",
   "nbconvert_exporter": "python",
   "pygments_lexer": "ipython3",
   "version": "3.9.18"
  }
 },
 "nbformat": 4,
 "nbformat_minor": 5
}
