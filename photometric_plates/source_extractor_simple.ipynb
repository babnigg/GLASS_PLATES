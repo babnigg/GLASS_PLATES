{
 "cells": [
  {
   "cell_type": "markdown",
   "id": "0316528a",
   "metadata": {},
   "source": [
    "# Source Extractor"
   ]
  },
  {
   "cell_type": "code",
   "execution_count": null,
   "id": "7e2c604c",
   "metadata": {},
   "outputs": [],
   "source": [
    "import sep\n",
    "import numpy as np\n",
    "import pandas as pd\n",
    "import os\n",
    "import shutil\n",
    "\n",
    "import matplotlib\n",
    "import matplotlib.pyplot as plt\n",
    "from matplotlib.patches import Ellipse\n",
    "\n",
    "from astropy import wcs\n",
    "from astropy.io import fits\n",
    "from astropy.table import Table\n",
    "from astroquery.gaia import Gaia\n",
    "from astroquery.sdss import SDSS\n",
    "from astroquery.simbad import Simbad"
   ]
  },
  {
   "cell_type": "code",
   "execution_count": null,
   "id": "708b4307",
   "metadata": {},
   "outputs": [],
   "source": [
    "# change file and directory\n",
    "directory = \"C:\\\\dir\\\\to\\\\file\\\\\"\n",
    "filen = \"file.fits\"\n",
    "\n",
    "# choose whether or not to plot results (True will result in longer time!)\n",
    "plotting = False\n",
    "\n",
    "# open given FITS file\n",
    "file = fits.open(directory+filen)\n",
    "header = file[0].header\n",
    "data = file[0].data"
   ]
  },
  {
   "cell_type": "code",
   "execution_count": null,
   "id": "db968ac0",
   "metadata": {},
   "outputs": [],
   "source": [
    "# choose whether to apply mask to certain pixel values (True or False)\n",
    "# this applys mask on inverted image, _bksub.fits image in DS9 to find a value to clip\n",
    "mask = False\n",
    "\n",
    "# choose mask values - check two graphs to make sure all annotations are red / no objects are red\n",
    "mask_back_val = 20000\n",
    "mask_obj_val = 4000\n",
    "\n",
    "# choose to ignore pixels over or under given value (\"over\" or \"under\")\n",
    "over_or_under = \"under\"\n",
    "\n",
    "\n",
    "\n",
    "if mask:\n",
    "    if over_or_under==\"over\":\n",
    "        to_val = int(np.min(data)-10)\n",
    "        data_bmasked = np.where(data>mask_back_val,to_val,data)\n",
    "        data_masked = np.where(data>mask_obj_val,to_val,data)\n",
    "        \n",
    "        plt.figure(figsize=(40,20)).set_facecolor('lightgrey')\n",
    "        plt.subplot(1,3,1)\n",
    "        plt.title(\"BACKGROUND SUBTRACTED TRANSFORMED DATA\")\n",
    "        plt.imshow(data,cmap='gray',origin='lower',interpolation='none',vmin=np.min(data),vmax=np.max(data))\n",
    "        plt.colorbar(fraction=0.046, pad=0.04)\n",
    "        \n",
    "        plt.subplot(1,3,2)\n",
    "        plt.title(\"BACKGROUND MASKED IMAGE: ARE ALL ANNOTATIONS RED?\")\n",
    "        plt.imshow(data_bmasked,cmap='gray',interpolation='none',origin='lower',vmin=np.min(data),vmax=np.max(data))\n",
    "        cmap = matplotlib.colormaps.get_cmap('gray').copy()\n",
    "        cb = plt.colorbar(fraction=0.046, pad=0.04)\n",
    "        cb.cmap.set_under('red')\n",
    "        \n",
    "        plt.subplot(1,3,3)\n",
    "        plt.title(\"OBJECT MASKED IMAGE: ARE NO OBJECTS RED?\")\n",
    "        plt.imshow(data_masked,cmap='gray',interpolation='none',origin='lower',vmin=np.min(data),vmax=np.max(data))\n",
    "        cmap = matplotlib.colormaps.get_cmap('gray').copy()\n",
    "        cb = plt.colorbar(fraction=0.046, pad=0.04)\n",
    "        cb.cmap.set_under('red')\n",
    "        plt.show()\n",
    "        \n",
    "        data_bmask = data>mask_back_val\n",
    "        data_mask = data>mask_obj_val\n",
    "    elif over_or_under==\"under\":\n",
    "        to_val = int(np.min(data)-10)\n",
    "        data_bmasked = np.where(data<mask_back_val,to_val,data)\n",
    "        data_masked = np.where(data<mask_obj_val,to_val,data)\n",
    "\n",
    "        plt.figure(figsize=(40,20)).set_facecolor('lightgrey')\n",
    "        plt.subplot(1,3,1)\n",
    "        plt.title(\"BACKGROUND SUBTRACTED TRANSFORMED DATA\")\n",
    "        plt.imshow(data,cmap='gray',origin='lower',interpolation='none',vmin=np.min(data)+1,vmax=np.max(data))\n",
    "        plt.colorbar(fraction=0.046, pad=0.04)\n",
    "        \n",
    "        plt.subplot(1,3,2)\n",
    "        plt.title(\"BACKGROUND MASKED IMAGE: ARE ALL ANNOTATIONS RED?\")\n",
    "        plt.imshow(data_bmasked,cmap='gray',interpolation='none',origin='lower',vmin=np.min(data)+1,vmax=np.max(data))\n",
    "        cmap = matplotlib.colormaps.get_cmap('gray').copy()\n",
    "        cb = plt.colorbar(fraction=0.046, pad=0.04)\n",
    "        cb.cmap.set_under('red')        \n",
    "        \n",
    "        plt.subplot(1,3,3)\n",
    "        plt.title(\"OBJECT MASKED IMAGE: ARE NO OBJECTS RED?\")\n",
    "        plt.imshow(data_masked,cmap='gray',interpolation='none',origin='lower',vmin=np.min(data),vmax=np.max(data))\n",
    "        cmap = matplotlib.colormaps.get_cmap('gray').copy()\n",
    "        cb = plt.colorbar(fraction=0.046, pad=0.04)\n",
    "        cb.cmap.set_under('red')\n",
    "        plt.show()\n",
    "        \n",
    "        data_bmask = data<mask_back_val\n",
    "        data_mask = data<mask_obj_val\n",
    "    else:\n",
    "        print(\"mask not applied: over_or_under variable spelled incorrectly\")\n",
    "else:\n",
    "    data_bmask = data!=data\n",
    "    data_mask = data!=data"
   ]
  },
  {
   "cell_type": "code",
   "execution_count": null,
   "id": "05422138",
   "metadata": {},
   "outputs": [],
   "source": [
    "# simple \"inversion\" of the data\n",
    "invdata = -data.astype(np.float64)\n",
    "\n",
    "# find and subtract background, save file\n",
    "bkg = sep.Background(invdata,mask=data_bmask,bw=64,bh=64,fw=3,fh=3)\n",
    "sdata = invdata-bkg\n",
    "fits.writeto(directory+filen[:-5]+'_bksub.fits',sdata,header,overwrite=True)\n",
    "\n",
    "if plotting:\n",
    "    # plot the above images\n",
    "    plt.figure(figsize=(40,10)).set_facecolor('lightgrey')\n",
    "    plt.subplot(1,4,1)\n",
    "    plt.title(\"ORIGINAL DATA\")\n",
    "    plt.imshow(data,cmap='gray',origin=\"lower\",interpolation='none')\n",
    "    plt.colorbar(fraction=0.046, pad=0.04)\n",
    "    plt.subplot(1,4,2)\n",
    "    plt.title(\"TRANSFORMED DATA\")\n",
    "    plt.imshow(invdata,cmap='gray',origin=\"lower\",interpolation='none')\n",
    "    plt.colorbar(fraction=0.046, pad=0.04)\n",
    "    plt.subplot(1,4,3)\n",
    "    plt.title(\"BACKGROUND\")\n",
    "    plt.imshow(bkg,cmap='gray',origin=\"lower\",interpolation='none')\n",
    "    plt.colorbar(fraction=0.046, pad=0.04)\n",
    "    plt.subplot(1,4,4)\n",
    "    plt.title(\"BACKGROUND SUBTRACTED TRANSFORMED DATA\")\n",
    "    plt.imshow(sdata,cmap='gray',origin=\"lower\",interpolation='none')\n",
    "    plt.colorbar(fraction=0.046, pad=0.04)\n",
    "    plt.show()"
   ]
  },
  {
   "cell_type": "code",
   "execution_count": null,
   "id": "5251df35",
   "metadata": {},
   "outputs": [],
   "source": [
    "# find objects in background subtracted transformed image using simple parameters\n",
    "objects = sep.extract(sdata,5,err=bkg.globalrms,mask=data_mask,clean=False,minarea=25)\n",
    "df = pd.DataFrame(objects)\n",
    "\n",
    "if plotting:\n",
    "    # BELOW GRAPHING CODE BASED: https://sep.readthedocs.io/en/v1.1.x/tutorial.html\n",
    "\n",
    "    # plot background-subtracted image\n",
    "    plt.figure(figsize=(40,40)).set_facecolor('lightgrey')\n",
    "    ax = plt.gca()\n",
    "    # not used: m, s = np.mean(sdata), np.std(sdata)\n",
    "    plt.imshow(np.where(data_mask,int(np.min(sdata)-10),sdata),cmap='gray',origin='lower',interpolation='none',vmin=np.min(sdata),vmax=np.max(sdata))\n",
    "    cmap = matplotlib.colormaps.get_cmap('gray').copy()\n",
    "    cb = plt.colorbar(fraction=0.046, pad=0.04)\n",
    "    cb.cmap.set_under('red')\n",
    "    \n",
    "    # plot an ellipse for each object\n",
    "    for i in range(len(objects)):\n",
    "        e = Ellipse(xy=(objects['x'][i], objects['y'][i]),\n",
    "                    width=6*objects['a'][i],\n",
    "                    height=6*objects['b'][i],\n",
    "                    angle=objects['theta'][i] * 180. / np.pi)\n",
    "        e.set_facecolor('none')\n",
    "        e.set_edgecolor('orange')\n",
    "        ax.add_artist(e)\n",
    "\n",
    "    plt.title(\"OBJECTS\")\n",
    "    plt.show()\n",
    "    \n",
    "print(f'a total of {len(objects)} objects found')"
   ]
  },
  {
   "cell_type": "code",
   "execution_count": null,
   "id": "f745c4e9",
   "metadata": {},
   "outputs": [],
   "source": [
    "# convert source center xs and ys to ras and decs using FITS header\n",
    "w = wcs.WCS(header)\n",
    "ras,decs = w.all_pix2world(df[\"x\"],df[\"y\"],0)\n",
    "df[\"ra\"],df[\"dec\"] = ras,decs\n",
    "\n",
    "# calculate a circle that encompasses the entire plate's area\n",
    "cra,cdec = w.all_pix2world(header[\"NAXIS1\"]/2,header[\"NAXIS2\"]/2,0)\n",
    "radius = (((w.all_pix2world(header[\"NAXIS1\"],header[\"NAXIS2\"],0)[0]-w.all_pix2world(1,1,0)[0])**2+\n",
    "          (w.all_pix2world(header[\"NAXIS1\"],header[\"NAXIS2\"],0)[1]-w.all_pix2world(1,1,0)[1])**2)**0.5)/2\n",
    "\n",
    "# calculate a rectangle that encompasses the entire plate's area\n",
    "ra1,dec1 = w.all_pix2world(1,1,0)\n",
    "ra2,dec2 = w.all_pix2world(1,header[\"NAXIS2\"],0)\n",
    "ra3,dec3 = w.all_pix2world(header[\"NAXIS1\"],1,0)\n",
    "ra4,dec4 = w.all_pix2world(header[\"NAXIS1\"],header[\"NAXIS2\"],0)"
   ]
  },
  {
   "cell_type": "code",
   "execution_count": null,
   "id": "213f548a",
   "metadata": {
    "scrolled": true
   },
   "outputs": [],
   "source": [
    "# save the objects derived from source extractor\n",
    "df.to_csv(directory+filen[:-5]+'_obj.csv')\n",
    "print(\"In directory: \"+directory)\n",
    "print(\"Background Subtracted Transformed FITS image saved in \"+filen[:-5]+'_bksub.fits')\n",
    "print(\"Source Extractor Objects saved in \"+filen[:-5]+'_obj.csv')\n",
    "\n",
    "print(\"\\nSource Extraction Done!\\nuse cells below to get catalog data\")"
   ]
  },
  {
   "cell_type": "markdown",
   "id": "e848dc2c",
   "metadata": {},
   "source": [
    "---"
   ]
  },
  {
   "cell_type": "markdown",
   "id": "b95512b7",
   "metadata": {},
   "source": [
    "# Catalogs"
   ]
  },
  {
   "cell_type": "markdown",
   "id": "d22f107b",
   "metadata": {},
   "source": [
    "### GAIA catalog"
   ]
  },
  {
   "cell_type": "code",
   "execution_count": null,
   "id": "b287d114",
   "metadata": {},
   "outputs": [],
   "source": [
    "# run GAIA query in plate area (circle)\n",
    "job = Gaia.launch_job_async(\n",
    "    \"\"\"\n",
    "    SELECT \n",
    "        source_id,ra as ra_J2016,array_element(a0,1) as ra_J{0},dec as dec_J2016,array_element(a0,2) as dec_J{0},\n",
    "        parallax as parallax_J2016,array_element(a0,3) as parallax_J{0},parallax_error,\n",
    "        pmra as pmra_J2016,array_element(a0,4) as pmra_J{0},pmra_error,\n",
    "        pmdec as pmdec_J2016,array_element(a0,5) as pmdec_J{0},pmdec_error,\n",
    "        radial_velocity as radial_velocity_J2016,array_element(a0,6) as radial_velocity_J{0},\n",
    "        phot_g_mean_mag,phot_bp_mean_mag,phot_bp_mean_flux_over_error,phot_rp_mean_mag,phot_rp_mean_flux_over_error,\n",
    "        bp_rp,phot_variable_flag,classprob_dsc_combmod_galaxy\n",
    "    FROM\n",
    "       (\n",
    "        SELECT TOP 500000 \n",
    "            source_id,ra,dec,parallax,parallax_error,pmra,pmra_error,pmdec,pmdec_error,radial_velocity,\n",
    "            phot_g_mean_mag,phot_bp_mean_mag,phot_bp_mean_flux_over_error,phot_rp_mean_mag,phot_rp_mean_flux_over_error,\n",
    "            bp_rp,phot_variable_flag,classprob_dsc_combmod_galaxy,\n",
    "            epoch_prop(ra,dec,parallax,pmra,pmdec,radial_velocity,2016.0,{0}) as a0\n",
    "        FROM gaiadr3.gaia_source\n",
    "        WHERE CONTAINS(POINT('ICRS',ra,dec),CIRCLE('ICRS',{1},{2},{3}))=1  AND  ((phot_bp_mean_mag + 0.9*bp_rp) <= 20.)\n",
    "        ) as p\n",
    "    \"\"\".format(2000,cra,cdec,radius),\n",
    "    dump_to_file=True, output_format='csv')\n",
    "\n",
    "# save and rename the output file in the correct place\n",
    "os.replace(job.outputFile,filen[:-5]+'_gaia.csv')\n",
    "shutil.move(filen[:-5]+'_gaia.csv',directory+filen[:-5]+'_gaia.csv')\n",
    "gaia_data = pd.read_csv(directory+filen[:-5]+'_gaia.csv')\n",
    "print(str(len(gaia_data))+\" objects detected in field\")\n",
    "print(\"\\nGaia Objects saved as \"+filen[:-5]+'_gaia.csv')"
   ]
  },
  {
   "cell_type": "markdown",
   "id": "17ae6201",
   "metadata": {},
   "source": [
    "### SDSS Catalog"
   ]
  },
  {
   "cell_type": "code",
   "execution_count": null,
   "id": "6d613b6f",
   "metadata": {},
   "outputs": [],
   "source": [
    "# star or galaxy\n",
    "star_or_galaxy = \"star\"\n",
    "\n",
    "# run SDSS query in plate area (rectangle)\n",
    "query = \"\"\"\n",
    "        select top 500000\n",
    "            objID, ra, dec, u, err_u, g, err_g, i, err_i, clean\n",
    "        from {0}\n",
    "        where (ra between {1} and {2}) and (dec between {3} and {4}) and g < 20 and clean=1.\n",
    "        \"\"\".format(star_or_galaxy,np.min([ra1,ra2,ra3,ra4]),np.max([ra1,ra2,ra3,ra4]),np.min([dec1,dec2,dec3,dec4]),np.max([dec1,dec2,dec3,dec4]))\n",
    "res = SDSS.query_sql(query,data_release=18)\n",
    "\n",
    "# save output file\n",
    "print(str(len(res))+\" \"+star_or_galaxy+\"s detected in field\")\n",
    "res.write(directory+filen[:-5]+\"_sdss-\"+star_or_galaxy+\".csv\",overwrite=True)\n",
    "print(\"\\nSDSS Objects saved as \"+filen[:-5]+\"_sdss-\"+star_or_galaxy+\".csv\")"
   ]
  },
  {
   "cell_type": "markdown",
   "id": "ab735b9d",
   "metadata": {},
   "source": [
    "### SIMBAD Catalog"
   ]
  },
  {
   "cell_type": "code",
   "execution_count": null,
   "id": "b35dba4d",
   "metadata": {
    "scrolled": true
   },
   "outputs": [],
   "source": [
    "# run SIMBAD query in plate area (circle)\n",
    "cSimbad = Simbad()\n",
    "cSimbad.TIMEOUT = 1200\n",
    "cSimbad.ROW_LIMIT = -1\n",
    "cSimbad.add_votable_fields('ra(d)','dec(d)','otype','flux(u)','flux(g)','parallax','z_value','sp','pm','v*')\n",
    "query = \"region(circle, {0} {3}{1}, {2}d) & gmag < 19.5\".format(cra,cdec,radius,\"-\" if cdec<0 else \"+\")\n",
    "result_table = cSimbad.query_criteria(query)\n",
    "\n",
    "# save output file\n",
    "print(str(len(result_table))+\" objects detected in field\")\n",
    "result_table.write(directory+filen[:-5]+\"_simbad.csv\",overwrite=True)\n",
    "print(\"\\nSIMBAD Objects saved as \"+filen[:-5]+\"_simbad.csv\")"
   ]
  },
  {
   "cell_type": "markdown",
   "id": "95d4f950",
   "metadata": {},
   "source": [
    "---"
   ]
  }
 ],
 "metadata": {
  "kernelspec": {
   "display_name": "Python 3 (ipykernel)",
   "language": "python",
   "name": "python3"
  },
  "language_info": {
   "codemirror_mode": {
    "name": "ipython",
    "version": 3
   },
   "file_extension": ".py",
   "mimetype": "text/x-python",
   "name": "python",
   "nbconvert_exporter": "python",
   "pygments_lexer": "ipython3",
   "version": "3.9.18"
  }
 },
 "nbformat": 4,
 "nbformat_minor": 5
}
