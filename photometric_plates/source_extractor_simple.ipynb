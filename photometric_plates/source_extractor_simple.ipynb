{
 "cells": [
  {
   "cell_type": "markdown",
   "id": "3c15b6fe-3461-4a69-a911-14baa033408d",
   "metadata": {},
   "source": [
    "<h1><span style=\"color:purple\"><strong>SOURCE EXTRACTOR for PYTHON (SEP)</strong></span></h1>\n",
    "\n",
    "<h3><span style=\"color:orange\">PHOTOGRAPHIC PLATE USE CASE"
   ]
  },
  {
   "cell_type": "markdown",
   "id": "e4307e91-efb6-4626-a861-bfe4ae078323",
   "metadata": {},
   "source": [
    "---"
   ]
  },
  {
   "cell_type": "markdown",
   "id": "3baddf9d-1c56-4ace-8544-75b7c79182a3",
   "metadata": {},
   "source": [
    "<span style=\"color:olive\"><strong>SETUP"
   ]
  },
  {
   "cell_type": "code",
   "execution_count": null,
   "id": "29226f9b-4344-4ea8-aafc-a7076d63e3f9",
   "metadata": {},
   "outputs": [],
   "source": [
    "# install sep with pip, may need to run command in terminal then restart notebook\n",
    "# https://sep.readthedocs.io/en/v1.1.x/index.html#installation\n",
    "\n",
    "pip install sep"
   ]
  },
  {
   "cell_type": "code",
   "execution_count": null,
   "id": "2abadfdd-02a9-4eaa-8879-07cddc86e6c8",
   "metadata": {},
   "outputs": [],
   "source": [
    "# import libraries\n",
    "\n",
    "import sep\n",
    "import numpy as np\n",
    "import os\n",
    "import shutil\n",
    "import pandas as pd\n",
    "\n",
    "from astropy import wcs\n",
    "from astropy.io import fits\n",
    "\n",
    "import matplotlib\n",
    "import matplotlib.pyplot as plt\n",
    "from matplotlib.patches import Ellipse"
   ]
  },
  {
   "cell_type": "code",
   "execution_count": null,
   "id": "f8df8789-cf4b-4a0e-896f-a3cc3d8fc167",
   "metadata": {},
   "outputs": [],
   "source": [
    "# change file and directory, file should have WCS solution embedded\n",
    "directory = \"directory/to/file/\"\n",
    "file = \"file.fits\"\n",
    "\n",
    "# choose whether or not to plot results (True will result in longer time!)\n",
    "plot = True\n",
    "# choose whether to save both the background subtracted image and catalog\n",
    "save = True\n",
    "\n",
    "# define an appropriate transformation function\n",
    "def transform(data):\n",
    "    '''\n",
    "    outputs the transformed data, in the same image shape\n",
    "    note that sep only works with np.float64 or np.int16\n",
    "    '''\n",
    "    return 65536.-data.astype(np.float64)\n",
    "    # return data.astype(np.float64)"
   ]
  },
  {
   "cell_type": "markdown",
   "id": "f550289b-7dd2-4861-abdd-b93c403c345d",
   "metadata": {},
   "source": [
    "<span style=\"color:olive\"><strong>EXTRACT OBJECTS</strong>\n",
    "\n",
    "<span style=\"color:olive\">calculate and subtract background"
   ]
  },
  {
   "cell_type": "code",
   "execution_count": null,
   "id": "18ffa1c9-3f04-4c11-b73f-e9f32526cefc",
   "metadata": {},
   "outputs": [],
   "source": [
    "# opens given FITS file\n",
    "fits_file = fits.open(os.path.join(directory,file))\n",
    "header,data = fits_file[0].header,fits_file[0].data\n",
    "\n",
    "# transforms the data\n",
    "data_t = transform(data)\n",
    "\n",
    "# https://sep.readthedocs.io/en/v1.1.x/api/sep.Background.html\n",
    "# find and subtract background\n",
    "# all inputs are currently set to defaults\n",
    "#   mask is a boolean mask array, same size as data\n",
    "#   bw,bh are size of background boxes in pixels\n",
    "#   fw,fh are filter width and height in boxes\n",
    "#   fthresh is the filter threshold\n",
    "bkg = sep.Background(data=data_t,\n",
    "                     mask=None,\n",
    "                     bw=64,\n",
    "                     bh=64,\n",
    "                     fw=3,\n",
    "                     fh=3,\n",
    "                     fthresh=0)\n",
    "bkg_rms = bkg.rms()\n",
    "sdata = data_t-bkg\n",
    "\n",
    "if save:\n",
    "    fits.writeto(os.path.join(directory,file[:-5]+'_bksub.fits'),sdata,header,overwrite=True)\n",
    "    print(\"background subtracted/transformed data saved as:\",file[:-5]+'_bksub.fits')\n",
    "\n",
    "if plot:\n",
    "    plt.figure(figsize=(50,10)).set_facecolor('lightgrey')\n",
    "    plt.subplot(1,5,1)\n",
    "    plt.title(\"ORIGINAL DATA\")\n",
    "    plt.imshow(data,cmap='magma',origin=\"lower\")\n",
    "    plt.colorbar(fraction=0.046, pad=0.04)\n",
    "    plt.subplot(1,5,2)\n",
    "    plt.title(\"TRANSFORMED DATA\")\n",
    "    plt.imshow(data_t,cmap='magma',origin=\"lower\")\n",
    "    plt.colorbar(fraction=0.046, pad=0.04)\n",
    "    plt.subplot(1,5,3)\n",
    "    plt.title(\"BACKGROUND\")\n",
    "    plt.imshow(bkg,cmap='magma',origin=\"lower\")\n",
    "    plt.colorbar(fraction=0.046, pad=0.04)\n",
    "    plt.subplot(1,5,4)\n",
    "    plt.title(\"BACKGROUND RMS\")\n",
    "    plt.imshow(bkg_rms,cmap='magma',origin=\"lower\")\n",
    "    plt.colorbar(fraction=0.046, pad=0.04)\n",
    "    plt.subplot(1,5,5)\n",
    "    plt.title(\"BACKGROUND SUBTRACTED/TRANSFORMED DATA\")\n",
    "    plt.imshow(sdata,cmap='magma',origin=\"lower\")\n",
    "    plt.colorbar(fraction=0.046, pad=0.04)\n",
    "    plt.show()"
   ]
  },
  {
   "cell_type": "markdown",
   "id": "1c3702cf-bb9a-4a18-93fd-1a07e223a023",
   "metadata": {},
   "source": [
    "<span style=\"color:olive\">extract objects"
   ]
  },
  {
   "cell_type": "code",
   "execution_count": null,
   "id": "114e5daa-93ec-4d4c-a9f9-57e1ce61f942",
   "metadata": {},
   "outputs": [],
   "source": [
    "# https://sep.readthedocs.io/en/v1.1.x/api/sep.extract.html\n",
    "# find objects in background subtracted transformed image\n",
    "# will mention a few important parameters, others are described in docs\n",
    "#   thresh is a relative threshold from the background error\n",
    "#   mask is a boolean mask array, same size as data\n",
    "#   min_area gives the minimum amount of pixels required to count as an object\n",
    "#   clean removes objects that are unlikely to be real\n",
    "\n",
    "objects,segmap = sep.extract(data=sdata,\n",
    "                             thresh=3,\n",
    "                             err=bkg.globalrms,\n",
    "                             mask=None,\n",
    "                             maskthresh=0,\n",
    "                             minarea=10,\n",
    "                             filter_kernel=np.array([[1,2,1],\n",
    "                                                     [2,4,2],\n",
    "                                                     [1,2,1]]),\n",
    "                             filter_type=\"matched\",\n",
    "                             deblend_nthresh=32,\n",
    "                             deblend_cont=0.005,\n",
    "                             clean=False,\n",
    "                             clean_param=1.0,\n",
    "                             segmentation_map=True)\n",
    "df = pd.DataFrame(objects)\n",
    "print(f'a total of {len(objects)} objects found')\n",
    "\n",
    "if plot:\n",
    "    # plot background-subtracted image\n",
    "    plt.figure(figsize=(40,40)).set_facecolor('lightgrey')\n",
    "    plt.title(\"OBJECTS\")\n",
    "    ax = plt.gca()\n",
    "    plt.imshow(sdata,cmap='magma',origin='lower',interpolation='none')\n",
    "    # plot an ellipse for each object\n",
    "    # based on: https://sep.readthedocs.io/en/v1.1.x/tutorial.html\n",
    "    for i in range(len(objects)):\n",
    "        e = Ellipse(xy=(objects['x'][i], objects['y'][i]),\n",
    "                    width=6*objects['a'][i],\n",
    "                    height=6*objects['b'][i],\n",
    "                    angle=objects['theta'][i] * 180. / np.pi)\n",
    "        e.set_facecolor('none')\n",
    "        e.set_edgecolor('turquoise')\n",
    "        ax.add_artist(e)\n",
    "    plt.show()\n",
    "\n",
    "    # plot segmentation map\n",
    "    # plt.figure(figsize=(40,40)).set_facecolor(\"lightgrey\")\n",
    "    # plt.imshow(segmap,cmap=\"Spectral\",origin=\"lower\",interpolation=\"none\")"
   ]
  },
  {
   "cell_type": "code",
   "execution_count": null,
   "id": "81a9512e-b7ba-44ef-91e8-9b4b186db216",
   "metadata": {},
   "outputs": [],
   "source": [
    "# calculate RAs and Decs using WCS solution\n",
    "# uses member pixel's barycenter for each object\n",
    "w = wcs.WCS(header)\n",
    "ras,decs = w.all_pix2world(df[\"x\"],df[\"y\"],0)\n",
    "df[\"ra\"],df[\"dec\"] = ras,decs\n",
    "\n",
    "\n",
    "# also get RAs and Decs using windowed algorithm\n",
    "# https://sep.readthedocs.io/en/v1.1.x/api/sep.winpos.html\n",
    "x_,y_,flag_ = sep.winpos(data=sdata,\n",
    "                         xinit=df['x'],\n",
    "                         yinit=df['y'],\n",
    "                         sig=2)\n",
    "df[\"x_win\"],df[\"y_win\"] = x_,y_\n",
    "ras_,decs_ = w.all_pix2world(df[\"x_win\"],df[\"y_win\"],0)\n",
    "df[\"ra_win\"],df[\"dec_win\"] = ras_,decs_\n",
    "\n",
    "# finally, get RAs and Decs using the maximum flux point\n",
    "# using convolved, to avoid random local maxima due to noise\n",
    "ras__,decs__ = w.all_pix2world(df[\"xcpeak\"],df[\"ycpeak\"],0)\n",
    "df[\"ra_flux\"],df[\"dec_flux\"] = ras__,decs__\n",
    "\n",
    "\n",
    "\n",
    "# saves object catalog\n",
    "if save:\n",
    "    df.to_csv(os.path.join(directory,file[:-5]+'_obj.csv'))\n",
    "    print(\"Source Extractor Objects saved in \"+file[:-5]+'_obj.csv')"
   ]
  },
  {
   "cell_type": "code",
   "execution_count": null,
   "id": "2c6350a4-3a06-4654-b231-5d91861e213e",
   "metadata": {},
   "outputs": [],
   "source": [
    "# save segmap\n",
    "if save:\n",
    "    fits.writeto(os.path.join(directory,file[:-5]+'_segmap.fits'),segmap,header,overwrite=True)"
   ]
  },
  {
   "cell_type": "markdown",
   "id": "8a97f9c9-17fa-42a4-aa17-d89a4e88aa73",
   "metadata": {},
   "source": [
    "---"
   ]
  },
  {
   "cell_type": "markdown",
   "id": "40fb936a-dd32-4610-83eb-9282ef25654c",
   "metadata": {},
   "source": [
    "<span style=\"color:olive\"><strong>CATALOGS</strong>"
   ]
  },
  {
   "cell_type": "code",
   "execution_count": null,
   "id": "d99f3409-343e-4fcd-929f-daaf2b11192e",
   "metadata": {},
   "outputs": [],
   "source": [
    "# calculate a circle that encompasses the entire plate's area\n",
    "# w = wcs.WCS(header)\n",
    "\n",
    "cra,cdec = w.all_pix2world(header[\"NAXIS1\"]/2,header[\"NAXIS2\"]/2,0)\n",
    "radius = (((w.all_pix2world(header[\"NAXIS1\"],header[\"NAXIS2\"],0)[0]-w.all_pix2world(1,1,0)[0])**2+\n",
    "          (w.all_pix2world(header[\"NAXIS1\"],header[\"NAXIS2\"],0)[1]-w.all_pix2world(1,1,0)[1])**2)**0.5)/2\n",
    "print(f\"search within {radius:.3f}° from {cra:.3f},{cdec:.3f}\")"
   ]
  },
  {
   "cell_type": "markdown",
   "id": "213901a9-427f-4132-9ddc-4c0427379256",
   "metadata": {},
   "source": [
    "<span style=\"color:olive\">Gaia"
   ]
  },
  {
   "cell_type": "code",
   "execution_count": null,
   "id": "01a48746-b193-44f7-8d38-b365895ede96",
   "metadata": {},
   "outputs": [],
   "source": [
    "from astroquery.gaia import Gaia\n",
    "\n",
    "# change YEAR in .format line to year that plate was taken\n",
    "# currently, this precesses astrometry of sources within a circular field covering the plate area\n",
    "# returns other infomration, like magnitudes and flags\n",
    "# there is a magntiude cut, but this can be removed\n",
    "\n",
    "job = Gaia.launch_job_async(\n",
    "    \"\"\"\n",
    "    SELECT \n",
    "        source_id,ra as ra_J2016,array_element(a0,1) as ra_J{0},dec as dec_J2016,array_element(a0,2) as dec_J{0},\n",
    "        parallax as parallax_J2016,array_element(a0,3) as parallax_J{0},parallax_error,\n",
    "        pmra as pmra_J2016,array_element(a0,4) as pmra_J{0},pmra_error,\n",
    "        pmdec as pmdec_J2016,array_element(a0,5) as pmdec_J{0},pmdec_error,\n",
    "        radial_velocity as radial_velocity_J2016,array_element(a0,6) as radial_velocity_J{0},\n",
    "        phot_g_mean_mag,phot_bp_mean_mag,phot_bp_mean_flux_over_error,phot_rp_mean_mag,phot_rp_mean_flux_over_error,\n",
    "        bp_rp,phot_variable_flag,classprob_dsc_combmod_galaxy\n",
    "    FROM\n",
    "       (\n",
    "        SELECT TOP 500000 \n",
    "            source_id,ra,dec,parallax,parallax_error,pmra,pmra_error,pmdec,pmdec_error,radial_velocity,\n",
    "            phot_g_mean_mag,phot_bp_mean_mag,phot_bp_mean_flux_over_error,phot_rp_mean_mag,phot_rp_mean_flux_over_error,\n",
    "            bp_rp,phot_variable_flag,classprob_dsc_combmod_galaxy,\n",
    "            epoch_prop(ra,dec,parallax,pmra,pmdec,radial_velocity,2016.0,{0}) as a0\n",
    "        FROM gaiadr3.gaia_source\n",
    "        WHERE CONTAINS(POINT('ICRS',ra,dec),CIRCLE('ICRS',{1},{2},{3}))=1 AND ((phot_bp_mean_mag + 1.1*bp_rp) < 21.5)\n",
    "        ) as p\n",
    "    \"\"\".format(YEAR,cra,cdec,radius),\n",
    "    dump_to_file=True, output_format='csv')\n",
    "\n",
    "# save and rename the output file in the correct place\n",
    "os.replace(job.outputFile,file[:-5]+'_gaia.csv')\n",
    "shutil.move(file[:-5]+'_gaia.csv',os.path.join(directory,file[:-5]+'_gaia.csv'))\n",
    "gaia_data = pd.read_csv(os.path.join(directory,file[:-5]+'_gaia.csv'))\n",
    "print(str(len(gaia_data))+\" objects detected in field\")\n",
    "print(\"\\nGaia Objects saved as \"+file[:-5]+'_gaia.csv')"
   ]
  },
  {
   "cell_type": "markdown",
   "id": "48a3682d-0eb9-4d4f-a3a1-b2e0d678bef1",
   "metadata": {},
   "source": [
    "<span style=\"color:olive\">SDSS"
   ]
  },
  {
   "cell_type": "code",
   "execution_count": null,
   "id": "4a8a58bf-0ff8-4f28-bc3f-2a0ac5b24eb5",
   "metadata": {},
   "outputs": [],
   "source": [
    "from astroquery.sdss import SDSS\n",
    "\n",
    "# catalog; for example, star or galaxy\n",
    "catalog = \"star\"\n",
    "\n",
    "# run SDSS query in circle\n",
    "query = \"\"\"\n",
    "        SELECT TOP 500000\n",
    "            c.objID,c.ra,c.dec,c.u,c.err_u,c.g,c.err_g,c.r,c.err_r,c.i,c.err_i,c.z,c.err_z,s.z as redshift,c.clean\n",
    "        FROM {0} c\n",
    "        JOIN dbo.fGetNearbyObjEq({1},{2},{3}) n ON c.objID=n.objID\n",
    "        LEFT JOIN SpecObj s ON c.objID=s.bestObjID\n",
    "        WHERE g<20.5\n",
    "        \"\"\".format(catalog,cra,cdec,radius*60)\n",
    "res = SDSS.query_sql(query,data_release=17)\n",
    "\n",
    "# save output file\n",
    "print(str(len(res))+\" \"+catalog+\"s detected in field\")\n",
    "res.write(os.path.join(directory,file[:-5]+\"_sdss-\"+catalog+\".csv\"),overwrite=True)\n",
    "print(\"\\nSDSS Objects saved as \"+file[:-5]+\"_sdss-\"+catalog+\".csv\")"
   ]
  },
  {
   "cell_type": "markdown",
   "id": "02d29887-a6c9-4c44-ac6c-53721b5c0843",
   "metadata": {},
   "source": [
    "---"
   ]
  },
  {
   "cell_type": "markdown",
   "id": "e828388d-8696-4863-a081-5e51a74a2a4a",
   "metadata": {},
   "source": [
    "<span style=\"color:olive\"><strong>PHOTOMETRY"
   ]
  },
  {
   "cell_type": "markdown",
   "id": "89a2245c-b8a8-4094-8812-df5ca9a44da9",
   "metadata": {},
   "source": [
    "<span style=\"color:olive\">circle aperture"
   ]
  },
  {
   "cell_type": "code",
   "execution_count": null,
   "id": "f6394c59-5f45-46e5-bf77-9b01a90c4872",
   "metadata": {},
   "outputs": [],
   "source": [
    "# https://sep.readthedocs.io/en/v1.1.x/api/sep.sum_circle.html\n",
    "for r in np.arange(2.5,9.5,0.5):\n",
    "    flux0,_,_ = sep.sum_circle(data=sdata, \n",
    "                                      x=df['x'], \n",
    "                                      y=df['y'], \n",
    "                                      r=r)\n",
    "    df[\"flux_bary_\"+str(r)] = flux0"
   ]
  },
  {
   "cell_type": "code",
   "execution_count": null,
   "id": "64db5cf3-aa7d-4b4f-a933-71d6dfe50a7a",
   "metadata": {},
   "outputs": [],
   "source": [
    "df.to_csv(os.path.join(directory,file[:-5]+'_obj.csv'))"
   ]
  },
  {
   "cell_type": "code",
   "execution_count": null,
   "id": "ce1761bf-b9dd-44ac-890d-4936d8800924",
   "metadata": {},
   "outputs": [],
   "source": [
    "plt.figure(figsize=(10,4),dpi=200).set_facecolor(\"lightgray\")\n",
    "plt.title(\"COMPARISON\")\n",
    "_,bins,_ = plt.hist(flux0,alpha=0.5,bins=np.linspace(0,3e6,100),color=\"red\",label=\"circle flux\")\n",
    "plt.hist(df['flux'],alpha=0.5,bins=bins,color=\"gray\",label=\"member flux\")\n",
    "plt.legend()\n",
    "plt.show()"
   ]
  },
  {
   "cell_type": "markdown",
   "id": "469a4604-2a7f-48dd-a48a-4355f6fff2d2",
   "metadata": {},
   "source": [
    "<span style=\"color:olive\">circle annular aperture"
   ]
  },
  {
   "cell_type": "code",
   "execution_count": null,
   "id": "0077597e-de09-49b8-af3b-b18acd627c50",
   "metadata": {},
   "outputs": [],
   "source": [
    "# https://sep.readthedocs.io/en/v1.1.x/api/sep.sum_circann.html\n",
    "flux1,fluxerr1,flag1 = sep.sum_circann(data=sdata, \n",
    "                                       x=df['x'], \n",
    "                                       y=df['y'], \n",
    "                                       rin=0.,\n",
    "                                       rout=5.)"
   ]
  },
  {
   "cell_type": "code",
   "execution_count": null,
   "id": "5f157663-67fa-4029-8961-3978489784ce",
   "metadata": {},
   "outputs": [],
   "source": [
    "plt.figure(figsize=(10,4),dpi=200).set_facecolor(\"lightgray\")\n",
    "plt.title(\"COMPARISON\")\n",
    "_,bins,_ = plt.hist(flux1,alpha=0.5,bins=np.linspace(0,3e6,100),color=\"orange\",label=\"circle ann flux\")\n",
    "plt.hist(df['flux'],alpha=0.5,bins=bins,color=\"gray\",label=\"member flux\")\n",
    "plt.legend()\n",
    "plt.show()"
   ]
  },
  {
   "cell_type": "markdown",
   "id": "6d479496-c8dd-420c-a3fe-25ec9b5409f2",
   "metadata": {},
   "source": [
    "<span style=\"color:olive\">ellipse aperture"
   ]
  },
  {
   "cell_type": "code",
   "execution_count": null,
   "id": "ab29f915-eb7d-4192-a9f5-4448e4e30b61",
   "metadata": {},
   "outputs": [],
   "source": [
    "# https://sep.readthedocs.io/en/v1.1.x/api/sep.sum_ellipse.html\n",
    "flux2,fluxerr2,flag2 = sep.sum_ellipse(data=sdata, \n",
    "                                       x=df['x'], \n",
    "                                       y=df['y'], \n",
    "                                       a=df['a'], \n",
    "                                       b=df['b'], \n",
    "                                       theta=df['theta'], \n",
    "                                       r=1.)"
   ]
  },
  {
   "cell_type": "code",
   "execution_count": null,
   "id": "a046bbfa-4181-40c0-9fbd-587388fa694b",
   "metadata": {},
   "outputs": [],
   "source": [
    "plt.figure(figsize=(10,4),dpi=200).set_facecolor(\"lightgray\")\n",
    "plt.title(\"COMPARISON\")\n",
    "_,bins,_ = plt.hist(flux2,alpha=0.5,bins=np.linspace(0,3e6,100),color=\"blue\",label=\"ellipse flux\")\n",
    "plt.hist(df['flux'],alpha=0.5,bins=bins,color=\"gray\",label=\"member flux\")\n",
    "plt.legend()\n",
    "plt.show()"
   ]
  },
  {
   "cell_type": "markdown",
   "id": "73cef42c-f019-4d12-a197-6688ed1dc341",
   "metadata": {},
   "source": [
    "<span style=\"color:olive\">ellipse annular aperture"
   ]
  },
  {
   "cell_type": "code",
   "execution_count": null,
   "id": "31d5a4c3-5147-4c8a-8768-e1dfeb71c6c5",
   "metadata": {},
   "outputs": [],
   "source": [
    "# https://sep.readthedocs.io/en/v1.1.x/api/sep.sum_ellipann.html\n",
    "flux3,fluxerr3,flag3 = sep.sum_ellipann(data=sdata, \n",
    "                                        x=df['x'], \n",
    "                                        y=df['y'], \n",
    "                                        a=df['a'], \n",
    "                                        b=df['b'], \n",
    "                                        theta=df['theta'], \n",
    "                                        rin=0.,\n",
    "                                        rout=1.)"
   ]
  },
  {
   "cell_type": "code",
   "execution_count": null,
   "id": "51f3d9f3-c7b4-4d72-8841-ad2f009e1630",
   "metadata": {},
   "outputs": [],
   "source": [
    "plt.figure(figsize=(10,4),dpi=200).set_facecolor(\"lightgray\")\n",
    "plt.title(\"COMPARISON\")\n",
    "_,bins,_ = plt.hist(flux3,alpha=0.5,bins=np.linspace(0,3e6,100),color=\"purple\",label=\"ellipse ann flux\")\n",
    "plt.hist(df['flux'],alpha=0.5,bins=bins,color=\"gray\",label=\"member flux\")\n",
    "plt.legend()\n",
    "plt.show()"
   ]
  },
  {
   "cell_type": "markdown",
   "id": "a4307773-22ba-46fb-a5e1-8cccda0bd2b6",
   "metadata": {},
   "source": [
    "<span style=\"color:olive\">Kron radius"
   ]
  },
  {
   "cell_type": "code",
   "execution_count": null,
   "id": "84670232-f24e-4ffc-9a99-c9d244dac2c8",
   "metadata": {},
   "outputs": [],
   "source": [
    "# https://sep.readthedocs.io/en/v1.1.x/api/sep.kron_radius.html\n",
    "kronrad4,flag4 = sep.kron_radius(data=sdata, \n",
    "                                 x=df['x'], \n",
    "                                 y=df['y'], \n",
    "                                 a=df['a'], \n",
    "                                 b=df['b'], \n",
    "                                 theta=df['theta'],  \n",
    "                                 r=6.)"
   ]
  },
  {
   "cell_type": "markdown",
   "id": "80a97ecf-e848-4260-afd3-f7be269b31cc",
   "metadata": {},
   "source": [
    "<span style=\"color:olive\">flux radius"
   ]
  },
  {
   "cell_type": "code",
   "execution_count": null,
   "id": "0b4a04c7-eb24-419e-b82f-5a7de674f670",
   "metadata": {},
   "outputs": [],
   "source": [
    "# https://sep.readthedocs.io/en/v1.1.x/api/sep.flux_radius.html\n",
    "radius5,flag5 = sep.flux_radius(data=sdata, \n",
    "                                x=df['x'], \n",
    "                                y=df['y'],\n",
    "                                rmax=6.*df['a'],\n",
    "                                frac=0.5,\n",
    "                                normflux=df['flux'])"
   ]
  },
  {
   "cell_type": "markdown",
   "id": "d44e14c3-ec47-4fb0-81dd-1ce36f5d6524",
   "metadata": {},
   "source": [
    "---"
   ]
  }
 ],
 "metadata": {
  "kernelspec": {
   "display_name": "Python 3 (ipykernel)",
   "language": "python",
   "name": "python3"
  },
  "language_info": {
   "codemirror_mode": {
    "name": "ipython",
    "version": 3
   },
   "file_extension": ".py",
   "mimetype": "text/x-python",
   "name": "python",
   "nbconvert_exporter": "python",
   "pygments_lexer": "ipython3",
   "version": "3.9.18"
  }
 },
 "nbformat": 4,
 "nbformat_minor": 5
}
